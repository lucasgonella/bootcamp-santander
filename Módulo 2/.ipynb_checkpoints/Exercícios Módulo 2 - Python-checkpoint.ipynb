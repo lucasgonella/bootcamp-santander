{
 "cells": [
  {
   "cell_type": "code",
   "execution_count": null,
   "id": "3eea730a",
   "metadata": {},
   "outputs": [],
   "source": [
    "#Faça um programa que olhe todos os itens de uma lista e diga quantos deles são pares.\n",
    "\n",
    "\n",
    "contador = 0\n",
    "for numero in range(200):\n",
    "    if numero % 2 == 0:\n",
    "        contador = contador + 1\n",
    "if contador == 0:\n",
    "    print(f'Nessa lista não tem número par')\n",
    "else:    \n",
    "    print(f'Nessa lista tem {contador} números pares')  "
   ]
  },
  {
   "cell_type": "code",
   "execution_count": null,
   "id": "a1342656",
   "metadata": {},
   "outputs": [],
   "source": [
    "#Faça um programa que peça para o usuário digitar uma palavra e imprima cada letra em uma linha\n",
    "\n",
    "\n",
    "palavra = str(input(\"Digite uma palavra: \"))\n",
    "palavra_limpa = palavra.strip()\n",
    "\n",
    "for index in range(len(palavra_limpa)):\n",
    "    print(palavra[index])\n"
   ]
  },
  {
   "cell_type": "code",
   "execution_count": null,
   "id": "11b69e62",
   "metadata": {},
   "outputs": [],
   "source": [
    "#Faça uma função que recebe duas listas e retorna a soma item a item dessas listas.\n",
    "#Exemplo: Se a função receber as listas [1,4,3] e [3,5,1], então a função deve\n",
    "#retornar [1+3, 4+5, 3+1] = [4, 9, 4].\n",
    "\n",
    "def somaLista (lista1, lista2):\n",
    "    resultado = []\n",
    "    for x,y in enumerate(lista1):\n",
    "        resultado.append(y+lista2[x])\n",
    "    return resultado\n",
    "\n",
    "somaLista([1,4,3], [3,5,1])\n"
   ]
  },
  {
   "cell_type": "code",
   "execution_count": 2,
   "id": "5cc7d5d9",
   "metadata": {},
   "outputs": [],
   "source": [
    "#Crie um dicionário cujas chaves são os meses do ano e os valores são a duração (em dias) de cada mês.\n",
    "\n",
    "meses_dias = {\n",
    "    \"janeiro\" : 31,\n",
    "    \"fevereiro\" : 28,\n",
    "    \"março\" : 31,\n",
    "    \"abril\" : 30,\n",
    "    \"maio\" : 31,\n",
    "    \"junho\" : 30,\n",
    "    \"julho\" : 31,\n",
    "    \"agosto\" : 31,\n",
    "    \"setembro\" : 30,\n",
    "    \"outubro\" : 31,\n",
    "    \"novembro\" : 30,\n",
    "    \"dezembro\" : 31    \n",
    "}"
   ]
  },
  {
   "cell_type": "code",
   "execution_count": 3,
   "id": "0f97debd",
   "metadata": {},
   "outputs": [
    {
     "data": {
      "text/plain": [
       "{'janeiro': 31,\n",
       " 'fevereiro': 28,\n",
       " 'março': 31,\n",
       " 'abril': 30,\n",
       " 'maio': 31,\n",
       " 'junho': 30,\n",
       " 'julho': 31,\n",
       " 'agosto': 31,\n",
       " 'setembro': 30,\n",
       " 'outubro': 31,\n",
       " 'novembro': 30,\n",
       " 'dezembro': 31}"
      ]
     },
     "execution_count": 3,
     "metadata": {},
     "output_type": "execute_result"
    }
   ],
   "source": [
    "meses_dias"
   ]
  },
  {
   "cell_type": "code",
   "execution_count": 4,
   "id": "f5d41090",
   "metadata": {},
   "outputs": [
    {
     "name": "stdout",
     "output_type": "stream",
     "text": [
      "{'janeiro': 31, 'fevereiro': 28, 'março': 31, 'abril': 30, 'maio': 31, 'junho': 30, 'julho': 31, 'agosto': 31, 'setembro': 30, 'outubro': 31, 'novembro': 30, 'dezembro': 31}\n"
     ]
    }
   ],
   "source": [
    "print(meses_dias)"
   ]
  },
  {
   "cell_type": "code",
   "execution_count": null,
   "id": "0402c026",
   "metadata": {},
   "outputs": [],
   "source": []
  }
 ],
 "metadata": {
  "kernelspec": {
   "display_name": "Python 3 (ipykernel)",
   "language": "python",
   "name": "python3"
  },
  "language_info": {
   "codemirror_mode": {
    "name": "ipython",
    "version": 3
   },
   "file_extension": ".py",
   "mimetype": "text/x-python",
   "name": "python",
   "nbconvert_exporter": "python",
   "pygments_lexer": "ipython3",
   "version": "3.9.12"
  },
  "vscode": {
   "interpreter": {
    "hash": "6cd258864640d6a41eff78d9e67e9a3340364694eb4cd27b88581c008a19cbb8"
   }
  }
 },
 "nbformat": 4,
 "nbformat_minor": 5
}
