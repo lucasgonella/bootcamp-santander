{
 "cells": [
  {
   "cell_type": "code",
   "execution_count": 6,
   "id": "ed326b5e",
   "metadata": {},
   "outputs": [],
   "source": [
    "dados_cidade = {\n",
    "    'nome': 'Goiânia',\n",
    "    'estado': 'Goiás',\n",
    "    'area_km2': 728.84,\n",
    "    'populacao_milhoes': 1.5\n",
    "}"
   ]
  },
  {
   "cell_type": "code",
   "execution_count": 2,
   "id": "8ad64c0c",
   "metadata": {},
   "outputs": [
    {
     "name": "stdout",
     "output_type": "stream",
     "text": [
      "<class 'dict'>\n"
     ]
    }
   ],
   "source": [
    "print(type(dados_cidade))"
   ]
  },
  {
   "cell_type": "code",
   "execution_count": 7,
   "id": "bb6c1455",
   "metadata": {},
   "outputs": [
    {
     "name": "stdout",
     "output_type": "stream",
     "text": [
      "{'nome': 'Goiânia', 'estado': 'Goiás', 'area_km2': 728.84, 'populacao_milhoes': 1.5}\n"
     ]
    }
   ],
   "source": [
    "print(dados_cidade)"
   ]
  },
  {
   "cell_type": "code",
   "execution_count": 8,
   "id": "c5a8e682",
   "metadata": {},
   "outputs": [],
   "source": [
    "dados_cidade['pais'] = 'Brasil'"
   ]
  },
  {
   "cell_type": "code",
   "execution_count": 9,
   "id": "b3eecfdd",
   "metadata": {},
   "outputs": [
    {
     "name": "stdout",
     "output_type": "stream",
     "text": [
      "{'nome': 'Goiânia', 'estado': 'Goiás', 'area_km2': 728.84, 'populacao_milhoes': 1.5, 'pais': 'Brasil'}\n"
     ]
    }
   ],
   "source": [
    "print(dados_cidade)"
   ]
  },
  {
   "cell_type": "code",
   "execution_count": 10,
   "id": "6443c668",
   "metadata": {},
   "outputs": [
    {
     "name": "stdout",
     "output_type": "stream",
     "text": [
      "Goiânia\n"
     ]
    }
   ],
   "source": [
    "print(dados_cidade['nome'])"
   ]
  },
  {
   "cell_type": "code",
   "execution_count": 11,
   "id": "dddbea39",
   "metadata": {},
   "outputs": [],
   "source": [
    "dados_cidade['area_km2'] = 730.00"
   ]
  },
  {
   "cell_type": "code",
   "execution_count": 12,
   "id": "f0447833",
   "metadata": {},
   "outputs": [
    {
     "name": "stdout",
     "output_type": "stream",
     "text": [
      "{'nome': 'Goiânia', 'estado': 'Goiás', 'area_km2': 730.0, 'populacao_milhoes': 1.5, 'pais': 'Brasil'}\n"
     ]
    }
   ],
   "source": [
    "print(dados_cidade)"
   ]
  },
  {
   "cell_type": "code",
   "execution_count": 20,
   "id": "d3dc1a87",
   "metadata": {},
   "outputs": [],
   "source": [
    "dados_cidade_2 = dados_cidade.copy()"
   ]
  },
  {
   "cell_type": "code",
   "execution_count": 22,
   "id": "49d0f100",
   "metadata": {},
   "outputs": [
    {
     "name": "stdout",
     "output_type": "stream",
     "text": [
      "{'nome': 'Aparecida de Goiânia', 'estado': 'Goiás', 'area_km2': 730.0, 'populacao_milhoes': 1.5, 'pais': 'Brasil'}\n",
      "{'nome': 'Goiânia', 'estado': 'Goiás', 'area_km2': 730.0, 'populacao_milhoes': 1.5, 'pais': 'Brasil'}\n"
     ]
    }
   ],
   "source": [
    "dados_cidade_2['nome'] = \"Aparecida de Goiânia\"\n",
    "print(dados_cidade_2)\n",
    "print(dados_cidade)"
   ]
  },
  {
   "cell_type": "code",
   "execution_count": 16,
   "id": "bb427dc8",
   "metadata": {},
   "outputs": [
    {
     "name": "stdout",
     "output_type": "stream",
     "text": [
      "{'nome': 'Aparecida de Goiânia', 'estado': 'GO', 'area_km2': 730.0, 'populacao_milhoes': 1.5, 'pais': 'Brasil'}\n"
     ]
    }
   ],
   "source": [
    "dados_cidade_3 = dados_cidade.copy()\n",
    "dados_cidade_3['estado'] = 'GO'\n",
    "print(dados_cidade_3)"
   ]
  },
  {
   "cell_type": "code",
   "execution_count": 17,
   "id": "5432331b",
   "metadata": {},
   "outputs": [
    {
     "name": "stdout",
     "output_type": "stream",
     "text": [
      "{'nome': 'Aparecida de Goiânia', 'estado': 'Goiás', 'area_km2': 730.0, 'populacao_milhoes': 1.5, 'pais': 'Brasil'}\n",
      "{'nome': 'Aparecida de Goiânia', 'estado': 'Goiás', 'area_km2': 730.0, 'populacao_milhoes': 1.5, 'pais': 'Brasil'}\n"
     ]
    }
   ],
   "source": [
    "print(dados_cidade_2)\n",
    "print(dados_cidade)"
   ]
  },
  {
   "cell_type": "code",
   "execution_count": 18,
   "id": "04fe1d23",
   "metadata": {},
   "outputs": [],
   "source": [
    "dados_cidade['nome'] = 'Goiânia'"
   ]
  },
  {
   "cell_type": "code",
   "execution_count": 23,
   "id": "31628ee9",
   "metadata": {},
   "outputs": [
    {
     "name": "stdout",
     "output_type": "stream",
     "text": [
      "{'nome': 'Aparecida de Goiânia', 'estado': 'Goiás', 'area_km2': 730.0, 'populacao_milhoes': 1.5, 'pais': 'Brasil'}\n",
      "{'nome': 'Goiânia', 'estado': 'Goiás', 'area_km2': 730.0, 'populacao_milhoes': 1.5, 'pais': 'Brasil'}\n"
     ]
    }
   ],
   "source": [
    "print(dados_cidade_2)\n",
    "print(dados_cidade)"
   ]
  },
  {
   "cell_type": "code",
   "execution_count": null,
   "id": "37fd4cc1",
   "metadata": {},
   "outputs": [],
   "source": []
  }
 ],
 "metadata": {
  "kernelspec": {
   "display_name": "Python 3 (ipykernel)",
   "language": "python",
   "name": "python3"
  },
  "language_info": {
   "codemirror_mode": {
    "name": "ipython",
    "version": 3
   },
   "file_extension": ".py",
   "mimetype": "text/x-python",
   "name": "python",
   "nbconvert_exporter": "python",
   "pygments_lexer": "ipython3",
   "version": "3.10.7"
  }
 },
 "nbformat": 4,
 "nbformat_minor": 5
}
