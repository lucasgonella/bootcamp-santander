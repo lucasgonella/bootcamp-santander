{
 "cells": [
  {
   "cell_type": "code",
   "execution_count": 14,
   "id": "ed165bba",
   "metadata": {},
   "outputs": [
    {
     "name": "stdout",
     "output_type": "stream",
     "text": [
      "Digite um valor: 2500\n",
      "O novo valor é  2125.0\n"
     ]
    }
   ],
   "source": [
    "#Faça um programa que peça um valor monetário e diminua-o em 15%. \n",
    "#Seu programa deve imprimir a mensagem \"O novo valor é [valor]\".\n",
    "\n",
    "valor_monetario = float(input(\"Digite um valor: \"))\n",
    "\n",
    "valor_novo = valor_monetario - (valor_monetario * 15/100)\n",
    "\n",
    "\n",
    "print(\"O novo valor é \", valor_novo)\n"
   ]
  },
  {
   "cell_type": "code",
   "execution_count": 5,
   "id": "281c646b",
   "metadata": {},
   "outputs": [
    {
     "name": "stdout",
     "output_type": "stream",
     "text": [
      "Digite sua idade: 26\n",
      "Digite o seu salário: 26500\n",
      "Digite o seu sexo M, F ou Outro: outro\n"
     ]
    }
   ],
   "source": [
    "#Faça um programa que leia a validade das informações:\n",
    "#a. Idade: entre 0 e 150;\n",
    "#b. Salário: maior que 0;\n",
    "#c. Sexo: M, F ou Outro;\n",
    "\n",
    "\n",
    "idade = int(input(\"Digite sua idade: \"))\n",
    "while idade <= 0 or idade > 150:\n",
    "    idade = int(input('Idade maior que 0 menor que 150: '))\n",
    "    \n",
    "salario = float(input(\"Digite o seu salário: \"))\n",
    "while salario < 0:\n",
    "    salario = float(input(\"Salário maior que 0: \"))\n",
    "    \n",
    "sexo = input(\"Digite o seu sexo M, F ou Outro: \").upper()\n",
    "while (sexo != 'M') and (sexo != 'F') and (sexo != 'OUTRO'):\n",
    "    sexo = input(\"'M', 'F' ou 'Outro': \").upper()"
   ]
  },
  {
   "cell_type": "code",
   "execution_count": 11,
   "id": "a9d7a653",
   "metadata": {},
   "outputs": [
    {
     "name": "stdout",
     "output_type": "stream",
     "text": [
      "Mora perto da vítima? sim ou não: sim\n",
      "Já trabalhou com a vítima? sim ou não: nao\n",
      "Telefonou para a vítima? sim ou não: nao\n",
      "Esteve no local do crime? sim ou não: sim\n",
      "Devia para a vítima? sim ou não: sim\n",
      "\n",
      "\n",
      "seu nível de culpa foi: 3\n",
      "Cúmplice\n"
     ]
    }
   ],
   "source": [
    "#Vamos fazer um programa para verificar quem é o assassino de um crime.\n",
    "#Para descobrir o assassino, a polícia faz um pequeno questionário com 5\n",
    "#perguntas onde a resposta só pode ser sim ou não:\n",
    "    \n",
    "    #a. Mora perto da vítima?\n",
    "    #b. Já trabalhou com a vítima?\n",
    "    #c. Telefonou para a vítima?\n",
    "    #d. Esteve no local do crime?\n",
    "    #e. Devia para a vítima?\n",
    "    \n",
    "#Cada resposta sim dá um ponto para o suspeito. A polícia considera que os\n",
    "#suspeitos com 5 pontos são os assassinos, com 4 a 3 pontos são cúmplices e\n",
    "#2 pontos são apenas suspeitos, necessitando outras investigações. Valores\n",
    "#iguais ou abaixo de 1 são liberados.    \n",
    "\n",
    "pergunta1 = str(input(\"Mora perto da vítima? sim ou não: \")).upper()\n",
    "pergunta2 = str(input(\"Já trabalhou com a vítima? sim ou não: \")).upper()\n",
    "pergunta3 = str(input(\"Telefonou para a vítima? sim ou não: \")).upper()\n",
    "pergunta4 = str(input(\"Esteve no local do crime? sim ou não: \")).upper()\n",
    "pergunta5 = str(input(\"Devia para a vítima? sim ou não: \")).upper()\n",
    "nivel_culpa = 0\n",
    "\n",
    "if pergunta1 == \"SIM\":\n",
    "    nivel_culpa = nivel_culpa + 1\n",
    "if pergunta2 == \"SIM\":\n",
    "    nivel_culpa = nivel_culpa + 1    \n",
    "if pergunta3 == \"SIM\":\n",
    "    nivel_culpa = nivel_culpa + 1\n",
    "if pergunta4 == \"SIM\":\n",
    "    nivel_culpa = nivel_culpa + 1\n",
    "if pergunta5 == \"SIM\":\n",
    "    nivel_culpa = nivel_culpa + 1\n",
    "print('\\n')\n",
    "    \n",
    "if nivel_culpa == 5:\n",
    "    print(f'Seu nível de culpa foi: {nivel_culpa}')\n",
    "    print(\"Assasino\")\n",
    "elif nivel_culpa == 4 or nivel_culpa == 3:\n",
    "    print(f'seu nível de culpa foi: {nivel_culpa}')\n",
    "    print(\"Cúmplice\")\n",
    "elif nivel_culpa == 2:\n",
    "    print(f'seu nível de culpa foi: {nivel_culpa}')\n",
    "    print(\"Suspeito\")\n",
    "else:\n",
    "    print(f'seu nível de culpa foi: {nivel_culpa}')\n",
    "    print(\"Está liberado\")\n",
    "    "
   ]
  },
  {
   "cell_type": "code",
   "execution_count": 14,
   "id": "d4886513",
   "metadata": {},
   "outputs": [
    {
     "name": "stdout",
     "output_type": "stream",
     "text": [
      "9 * 1 =  9\n",
      "9 * 2 =  18\n",
      "9 * 3 =  27\n",
      "9 * 4 =  36\n",
      "9 * 5 =  45\n",
      "9 * 6 =  54\n",
      "9 * 7 =  63\n",
      "9 * 8 =  72\n",
      "9 * 9 =  81\n",
      "9 * 10 =  90\n",
      "\n",
      "Fim da tabuada do 9\n"
     ]
    }
   ],
   "source": [
    "#Faça um programa que imprima a tabuada do 9 (de 9*1 a 9*10) usando loops.\n",
    "contador = 0\n",
    "while contador <= 9:\n",
    "    contador = contador + 1\n",
    "    print(f'9 * {contador} = ', 9*contador)\n",
    "print(\"\\nFim da tabuada do 9\")    "
   ]
  },
  {
   "cell_type": "code",
   "execution_count": null,
   "id": "72d08191",
   "metadata": {},
   "outputs": [],
   "source": []
  }
 ],
 "metadata": {
  "kernelspec": {
   "display_name": "Python 3 (ipykernel)",
   "language": "python",
   "name": "python3"
  },
  "language_info": {
   "codemirror_mode": {
    "name": "ipython",
    "version": 3
   },
   "file_extension": ".py",
   "mimetype": "text/x-python",
   "name": "python",
   "nbconvert_exporter": "python",
   "pygments_lexer": "ipython3",
   "version": "3.9.12"
  },
  "vscode": {
   "interpreter": {
    "hash": "6cd258864640d6a41eff78d9e67e9a3340364694eb4cd27b88581c008a19cbb8"
   }
  }
 },
 "nbformat": 4,
 "nbformat_minor": 5
}
