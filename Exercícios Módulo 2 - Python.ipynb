{
 "cells": [
  {
   "cell_type": "code",
   "execution_count": 56,
   "id": "3eea730a",
   "metadata": {},
   "outputs": [
    {
     "name": "stdout",
     "output_type": "stream",
     "text": [
      "Nessa lista não tem número par\n"
     ]
    }
   ],
   "source": [
    "#Faça um programa que olhe todos os itens de uma lista e diga quantos deles são pares.\n",
    "\n",
    "\n",
    "contador = 0\n",
    "for numero in range(1,3,2):\n",
    "    if numero % 2 == 0:\n",
    "        contador = contador + 1\n",
    "if contador <= 0:\n",
    "    print(f'Nessa lista não tem número par')\n",
    "else:    \n",
    "    print(f'Nessa lista tem {contador} números pares')        "
   ]
  },
  {
   "cell_type": "code",
   "execution_count": 60,
   "id": "a1342656",
   "metadata": {},
   "outputs": [
    {
     "name": "stdout",
     "output_type": "stream",
     "text": [
      "Digite uma palavra: teste              teste\n",
      "['teste', 'teste']\n"
     ]
    }
   ],
   "source": [
    "#Faça um programa que peça para o usuário digitar uma palavra e imprima cada letra em uma linha\n",
    "\n",
    "palavra = str(input(\"Digite uma palavra: \"))\n",
    "palavra_limpa = palavra.split()\n",
    "\n",
    "print(palavra_limpa)"
   ]
  }
 ],
 "metadata": {
  "kernelspec": {
   "display_name": "Python 3 (ipykernel)",
   "language": "python",
   "name": "python3"
  },
  "language_info": {
   "codemirror_mode": {
    "name": "ipython",
    "version": 3
   },
   "file_extension": ".py",
   "mimetype": "text/x-python",
   "name": "python",
   "nbconvert_exporter": "python",
   "pygments_lexer": "ipython3",
   "version": "3.10.7"
  }
 },
 "nbformat": 4,
 "nbformat_minor": 5
}
