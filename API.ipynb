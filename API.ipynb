{
 "cells": [
  {
   "cell_type": "code",
   "execution_count": 1,
   "id": "b603740c",
   "metadata": {},
   "outputs": [
    {
     "name": "stdout",
     "output_type": "stream",
     "text": [
      "Collecting requests\n",
      "  Downloading requests-2.28.1-py3-none-any.whl (62 kB)\n",
      "     ---------------------------------------- 62.8/62.8 kB 1.6 MB/s eta 0:00:00\n",
      "Collecting certifi>=2017.4.17\n",
      "  Downloading certifi-2022.6.15.1-py3-none-any.whl (160 kB)\n",
      "     -------------------------------------- 160.4/160.4 kB 4.7 MB/s eta 0:00:00\n",
      "Collecting urllib3<1.27,>=1.21.1\n",
      "  Downloading urllib3-1.26.12-py2.py3-none-any.whl (140 kB)\n",
      "     ---------------------------------------- 140.4/140.4 kB ? eta 0:00:00\n",
      "Collecting idna<4,>=2.5\n",
      "  Downloading idna-3.3-py3-none-any.whl (61 kB)\n",
      "     ---------------------------------------- 61.2/61.2 kB 3.4 MB/s eta 0:00:00\n",
      "Collecting charset-normalizer<3,>=2\n",
      "  Downloading charset_normalizer-2.1.1-py3-none-any.whl (39 kB)\n",
      "Installing collected packages: urllib3, idna, charset-normalizer, certifi, requests\n",
      "Successfully installed certifi-2022.6.15.1 charset-normalizer-2.1.1 idna-3.3 requests-2.28.1 urllib3-1.26.12\n"
     ]
    }
   ],
   "source": [
    "!pip install requests"
   ]
  },
  {
   "cell_type": "code",
   "execution_count": 2,
   "id": "2c3d587f",
   "metadata": {},
   "outputs": [],
   "source": [
    "import requests"
   ]
  },
  {
   "cell_type": "code",
   "execution_count": 3,
   "id": "5c741018",
   "metadata": {},
   "outputs": [
    {
     "name": "stdout",
     "output_type": "stream",
     "text": [
      "200\n"
     ]
    }
   ],
   "source": [
    "url = 'https://api.exchangerate-api.com/v6/latest'\n",
    "\n",
    "req = requests.get(url)\n",
    "\n",
    "print(req.status_code)"
   ]
  },
  {
   "cell_type": "code",
   "execution_count": 4,
   "id": "b4138360",
   "metadata": {
    "scrolled": true
   },
   "outputs": [
    {
     "name": "stdout",
     "output_type": "stream",
     "text": [
      "{'result': 'success', 'provider': 'https://www.exchangerate-api.com', 'documentation': 'https://www.exchangerate-api.com/docs/free', 'terms_of_use': 'https://www.exchangerate-api.com/terms', 'time_last_update_unix': 1662854551, 'time_last_update_utc': 'Sun, 11 Sep 2022 00:02:31 +0000', 'time_next_update_unix': 1662942221, 'time_next_update_utc': 'Mon, 12 Sep 2022 00:23:41 +0000', 'time_eol_unix': 0, 'base_code': 'USD', 'rates': {'USD': 1, 'AED': 3.6725, 'AFN': 88.145998, 'ALL': 118.285023, 'AMD': 404.815654, 'ANG': 1.79, 'AOA': 427.451056, 'ARS': 140.688905, 'AUD': 1.462952, 'AWG': 1.79, 'AZN': 1.697262, 'BAM': 1.948145, 'BBD': 2, 'BDT': 94.245299, 'BGN': 1.948065, 'BHD': 0.376, 'BIF': 2036.807593, 'BMD': 1, 'BND': 1.396755, 'BOB': 6.922848, 'BRL': 5.192404, 'BSD': 1, 'BTN': 79.656497, 'BWP': 13.015872, 'BYN': 2.665159, 'BZD': 2, 'CAD': 1.302691, 'CDF': 2013.108473, 'CHF': 0.961258, 'CLP': 882.304402, 'CNY': 6.945031, 'COP': 4453.72236, 'CRC': 655.477003, 'CUP': 24, 'CVE': 109.831728, 'CZK': 24.395358, 'DJF': 177.721, 'DKK': 7.431065, 'DOP': 52.917373, 'DZD': 140.499878, 'EGP': 19.277591, 'ERN': 15, 'ETB': 52.61898, 'EUR': 0.996081, 'FJD': 2.228009, 'FKP': 0.865029, 'FOK': 7.431065, 'GBP': 0.86504, 'GEL': 2.845381, 'GGP': 0.865029, 'GHS': 10.266122, 'GIP': 0.865029, 'GMD': 55.743827, 'GNF': 8645.360779, 'GTQ': 7.762324, 'GYD': 209.441414, 'HKD': 7.850883, 'HNL': 24.580416, 'HRK': 7.504894, 'HTG': 120.374807, 'HUF': 393.894295, 'IDR': 14785.343323, 'ILS': 3.408204, 'IMP': 0.865029, 'INR': 79.657702, 'IQD': 1461.262578, 'IRR': 41913.336175, 'ISK': 139.475025, 'JEP': 0.865029, 'JMD': 151.323175, 'JOD': 0.709, 'JPY': 142.855184, 'KES': 120.445488, 'KGS': 81.620208, 'KHR': 4120.405917, 'KID': 1.462913, 'KMF': 490.034628, 'KRW': 1377.559385, 'KWD': 0.29963, 'KYD': 0.833333, 'KZT': 472.843348, 'LAK': 17691.052381, 'LBP': 1507.5, 'LKR': 355.563352, 'LRD': 154.221328, 'LSL': 17.279529, 'LYD': 4.959788, 'MAD': 10.68609, 'MDL': 19.37661, 'MGA': 4118.997415, 'MKD': 61.31862, 'MMK': 2725.887568, 'MNT': 3219.328658, 'MOP': 8.086397, 'MRU': 37.797682, 'MUR': 44.23639, 'MVR': 15.411965, 'MWK': 1034.212005, 'MXN': 19.94095, 'MYR': 4.490644, 'MZN': 64.70025, 'NAD': 17.279529, 'NGN': 423.376363, 'NIO': 35.838709, 'NOK': 9.92781, 'NPR': 127.450395, 'NZD': 1.638863, 'OMR': 0.384497, 'PAB': 1, 'PEN': 3.883851, 'PGK': 3.524676, 'PHP': 56.796518, 'PKR': 224.390942, 'PLN': 4.668019, 'PYG': 6907.645689, 'QAR': 3.64, 'RON': 4.861037, 'RSD': 116.79372, 'RUB': 60.376884, 'RWF': 1064.685185, 'SAR': 3.75, 'SBD': 8.074195, 'SCR': 13.197027, 'SDG': 565.068865, 'SEK': 10.623763, 'SGD': 1.396773, 'SHP': 0.865029, 'SLE': 14.335087, 'SLL': 14335.087214, 'SOS': 569.114115, 'SRD': 26.054512, 'SSP': 650.477264, 'STN': 24.40373, 'SYP': 2505.765036, 'SZL': 17.279529, 'THB': 36.45743, 'TJS': 10.255009, 'TMT': 3.499649, 'TND': 2.926292, 'TOP': 2.366369, 'TRY': 18.272556, 'TTD': 6.762599, 'TVD': 1.462913, 'TWD': 30.789353, 'TZS': 2329.648096, 'UAH': 36.987995, 'UGX': 3815.165995, 'UYU': 40.631508, 'UZS': 10968.926081, 'VES': 7.9835, 'VND': 23559.215381, 'VUV': 117.375337, 'WST': 2.641356, 'XAF': 653.379504, 'XCD': 2.7, 'XDR': 0.765881, 'XOF': 653.379504, 'XPF': 118.863101, 'YER': 250.407804, 'ZAR': 17.279775, 'ZMW': 15.50217, 'ZWL': 580.143444}}\n"
     ]
    }
   ],
   "source": [
    "dados = req.json()\n",
    "\n",
    "print(dados)"
   ]
  },
  {
   "cell_type": "code",
   "execution_count": 8,
   "id": "7a78cb01",
   "metadata": {},
   "outputs": [
    {
     "name": "stdout",
     "output_type": "stream",
     "text": [
      "Informe o valor em R$ a ser convertido\n",
      "250\n",
      "R$250.0 em dólar valem US$48.15\n"
     ]
    }
   ],
   "source": [
    "valor_reais = float(input('Informe o valor em R$ a ser convertido\\n'))\n",
    "cotacao = dados['rates']['BRL']\n",
    "print(f'R${valor_reais} em dólar valem US${(valor_reais / cotacao):.2f}')"
   ]
  }
 ],
 "metadata": {
  "kernelspec": {
   "display_name": "Python 3 (ipykernel)",
   "language": "python",
   "name": "python3"
  },
  "language_info": {
   "codemirror_mode": {
    "name": "ipython",
    "version": 3
   },
   "file_extension": ".py",
   "mimetype": "text/x-python",
   "name": "python",
   "nbconvert_exporter": "python",
   "pygments_lexer": "ipython3",
   "version": "3.10.7"
  }
 },
 "nbformat": 4,
 "nbformat_minor": 5
}
