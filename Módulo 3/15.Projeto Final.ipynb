{
 "cells": [
  {
   "cell_type": "code",
   "execution_count": 3,
   "id": "4b9e7d1c",
   "metadata": {},
   "outputs": [],
   "source": [
    "import requests as r"
   ]
  },
  {
   "cell_type": "code",
   "execution_count": 4,
   "id": "682a48e1",
   "metadata": {},
   "outputs": [],
   "source": [
    "url = 'https://api.covid19api.com/dayone/country/brazil'\n",
    "resp = r.get(url)"
   ]
  },
  {
   "cell_type": "code",
   "execution_count": null,
   "id": "b13258b6",
   "metadata": {},
   "outputs": [],
   "source": [
    "resp.status_code"
   ]
  },
  {
   "cell_type": "code",
   "execution_count": 6,
   "id": "2b9bb8a3",
   "metadata": {},
   "outputs": [],
   "source": [
    "raw_data = resp.json()"
   ]
  },
  {
   "cell_type": "code",
   "execution_count": null,
   "id": "a89b41bf",
   "metadata": {
    "collapsed": true
   },
   "outputs": [],
   "source": [
    "raw_data[0]"
   ]
  },
  {
   "cell_type": "code",
   "execution_count": 8,
   "id": "f2161f0e",
   "metadata": {},
   "outputs": [],
   "source": [
    "final_data = []\n",
    "for obs in raw_data:\n",
    "    final_data.append([obs['Confirmed'],obs['Deaths'],obs['Recovered'],obs['Active'],obs['Date']])"
   ]
  },
  {
   "cell_type": "code",
   "execution_count": null,
   "id": "41d355d9",
   "metadata": {
    "collapsed": true
   },
   "outputs": [],
   "source": [
    "final_data.insert(0, ['Confirmados', 'Obitos', 'Recuperados', 'Ativos', 'Data'])\n",
    "final_data"
   ]
  },
  {
   "cell_type": "code",
   "execution_count": null,
   "id": "805444f3",
   "metadata": {
    "collapsed": true
   },
   "outputs": [],
   "source": [
    "final_data"
   ]
  },
  {
   "cell_type": "code",
   "execution_count": 11,
   "id": "60843e16",
   "metadata": {},
   "outputs": [],
   "source": [
    "CONFIRMADOS = 0\n",
    "OBITOS = 1\n",
    "RECUPERADOS = 2\n",
    "ATIVOS = 3\n",
    "DATA = 4"
   ]
  },
  {
   "cell_type": "code",
   "execution_count": null,
   "id": "ce5ceecd",
   "metadata": {
    "collapsed": true
   },
   "outputs": [],
   "source": [
    "for i in range(1, len(final_data)):\n",
    "    final_data[i][DATA] = final_data[i][DATA][:10]\n",
    "final_data    "
   ]
  },
  {
   "cell_type": "code",
   "execution_count": 13,
   "id": "89a5504d",
   "metadata": {},
   "outputs": [],
   "source": [
    "import datetime as dt"
   ]
  },
  {
   "cell_type": "code",
   "execution_count": 14,
   "id": "a29f95fc",
   "metadata": {},
   "outputs": [],
   "source": [
    "import csv"
   ]
  },
  {
   "cell_type": "code",
   "execution_count": 15,
   "id": "25ce1cd8",
   "metadata": {},
   "outputs": [],
   "source": [
    "with open('brasil-covid.csv', 'w') as file:\n",
    "    writer = csv.writer(file)\n",
    "    writer.writerows(final_data)"
   ]
  },
  {
   "cell_type": "code",
   "execution_count": 16,
   "id": "95079b80",
   "metadata": {},
   "outputs": [],
   "source": [
    "for i in range(1, len(final_data)):\n",
    "    final_data[i][DATA] = dt.datetime.strptime(final_data[i][DATA], '%Y-%m-%d')"
   ]
  },
  {
   "cell_type": "code",
   "execution_count": null,
   "id": "de3d3ffe",
   "metadata": {},
   "outputs": [],
   "source": [
    "final_data"
   ]
  },
  {
   "cell_type": "code",
   "execution_count": 18,
   "id": "efd3790a",
   "metadata": {},
   "outputs": [],
   "source": [
    "def get_datasets(y, labels):\n",
    "    if type(y[0]) == list:\n",
    "        datasets = []\n",
    "        for i in range(len(y)):\n",
    "            datasets.append({\n",
    "                'label': labels[i],\n",
    "                'data': y[i]\n",
    "                })\n",
    "        return datasets\n",
    "    else:\n",
    "        return [\n",
    "            {\n",
    "                'label':labels[0],\n",
    "                'data': y\n",
    "            }\n",
    "        ]            "
   ]
  },
  {
   "cell_type": "code",
   "execution_count": 19,
   "id": "43e866d1",
   "metadata": {},
   "outputs": [],
   "source": [
    "def set_title(title=''):\n",
    "    if title != '':\n",
    "        display = 'true'\n",
    "    else:\n",
    "        display = 'false'\n",
    "    return {\n",
    "        'title': title,\n",
    "        'display': display\n",
    "    }"
   ]
  },
  {
   "cell_type": "code",
   "execution_count": 20,
   "id": "e1f60281",
   "metadata": {},
   "outputs": [],
   "source": [
    "def create_chart(x, y, labels, kind='bar', title=''):\n",
    "    \n",
    "    datasets = get_datasets(y, labels)\n",
    "    options = set_title(title)\n",
    "    \n",
    "    chart = {\n",
    "        'type' : kind,\n",
    "        'data' : {\n",
    "            'labels': x,\n",
    "            'datasets' : datasets\n",
    "        },\n",
    "        'options' : options\n",
    "    }\n",
    "    \n",
    "    return chart"
   ]
  },
  {
   "cell_type": "code",
   "execution_count": 21,
   "id": "5b80dba5",
   "metadata": {},
   "outputs": [],
   "source": [
    "def get_api_chart(chart):\n",
    "    url_base = 'https://quickchart.io/chart'\n",
    "    resp = r.get(f'{url_base}?c={str(chart)}')\n",
    "    return resp.content"
   ]
  },
  {
   "cell_type": "code",
   "execution_count": 22,
   "id": "0657b3d6",
   "metadata": {},
   "outputs": [],
   "source": [
    "def save_image(path, content):\n",
    "    with open(path, 'wb') as image:\n",
    "        image.write(content)"
   ]
  },
  {
   "cell_type": "code",
   "execution_count": null,
   "id": "3b95e5d1",
   "metadata": {
    "collapsed": true
   },
   "outputs": [],
   "source": [
    "!pip install Pillow"
   ]
  },
  {
   "cell_type": "code",
   "execution_count": 24,
   "id": "92d01d06",
   "metadata": {},
   "outputs": [],
   "source": [
    "import IPython.display as display\n",
    "from PIL import Image"
   ]
  },
  {
   "cell_type": "code",
   "execution_count": null,
   "id": "6c9ba3aa",
   "metadata": {},
   "outputs": [],
   "source": [
    "y_data_1 = []\n",
    "for obs in final_data[1::30]:\n",
    "    y_data_1.append(obs[CONFIRMADOS])\n",
    "\n",
    "y_data_2 = []\n",
    "for obs in final_data[1::30]:\n",
    "    y_data_2.append(obs[RECUPERADOS])\n",
    "    \n",
    "labels = ['Confirmados', 'Recuperados']\n",
    "\n",
    "x = []\n",
    "for obs in final_data[1::30]:\n",
    "    x.append(obs[DATA].strftime('%d/%m/%Y'))\n",
    "    \n",
    "chart = create_chart(x, [y_data_1, y_data_2], labels, title='Gráfico confirmados vs recuperados')\n",
    "chart_content = get_api_chart(chart)\n",
    "save_image('meu-primeiro-grafico.png', chart_content)\n",
    "display.display(Image.open('meu-primeiro-grafico.png'))"
   ]
  },
  {
   "cell_type": "code",
   "execution_count": 26,
   "id": "9cd72bd2",
   "metadata": {},
   "outputs": [],
   "source": [
    "from urllib.parse import quote"
   ]
  },
  {
   "cell_type": "code",
   "execution_count": 27,
   "id": "1ae42270",
   "metadata": {},
   "outputs": [],
   "source": [
    "def get_api_qrcode(link):\n",
    "    text = quote(link) # parsing do link para url\n",
    "    url_base = 'https://quickchart.io/qr'\n",
    "    resp = r.get(f'{url_base}?text={text}')\n",
    "    return resp.content"
   ]
  },
  {
   "cell_type": "code",
   "execution_count": null,
   "id": "19cef125",
   "metadata": {},
   "outputs": [],
   "source": [
    "url_base = 'https://quickchart.io/chart'\n",
    "link = f'{url_base}?c={str(chart)}'\n",
    "save_image('qr-code.png', get_api_qrcode(link))\n",
    "display.display(Image.open('qr-code.png'))"
   ]
  },
  {
   "cell_type": "code",
   "execution_count": null,
   "id": "c8679452",
   "metadata": {},
   "outputs": [],
   "source": []
  }
 ],
 "metadata": {
  "kernelspec": {
   "display_name": "Python 3.10.7 64-bit",
   "language": "python",
   "name": "python3"
  },
  "language_info": {
   "codemirror_mode": {
    "name": "ipython",
    "version": 3
   },
   "file_extension": ".py",
   "mimetype": "text/x-python",
   "name": "python",
   "nbconvert_exporter": "python",
   "pygments_lexer": "ipython3",
   "version": "3.10.7"
  },
  "vscode": {
   "interpreter": {
    "hash": "6cd258864640d6a41eff78d9e67e9a3340364694eb4cd27b88581c008a19cbb8"
   }
  }
 },
 "nbformat": 4,
 "nbformat_minor": 5
}
