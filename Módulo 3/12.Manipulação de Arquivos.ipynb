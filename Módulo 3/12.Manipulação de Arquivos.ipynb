{
 "cells": [
  {
   "cell_type": "code",
   "execution_count": null,
   "id": "68310040",
   "metadata": {
    "scrolled": true
   },
   "outputs": [],
   "source": [
    "arquivo = open('dom_casmurro_cap_1.txt', 'r',encoding='utf-8')\n",
    "texto = arquivo.read()\n",
    "print(texto)\n",
    "arquivo.close()"
   ]
  },
  {
   "cell_type": "code",
   "execution_count": null,
   "id": "9337e3a1",
   "metadata": {},
   "outputs": [],
   "source": [
    "arquivo = open('dom_casmurro_cap_1.txt', 'r',encoding='utf-8')\n",
    "linha = arquivo.readline()\n",
    "while linha != '':\n",
    "    print(linha, end='')\n",
    "    linha = arquivo.readline()\n",
    "arquivo.close()"
   ]
  },
  {
   "cell_type": "code",
   "execution_count": null,
   "id": "6219dcac",
   "metadata": {},
   "outputs": [],
   "source": [
    "arquivo = open('dom_casmurro_cap_1.txt', 'r',encoding='utf-8')\n",
    "for linha in arquivo:\n",
    "    print(linha, end='')\n",
    "arquivo.close()"
   ]
  },
  {
   "cell_type": "code",
   "execution_count": null,
   "id": "7d7a6f7c",
   "metadata": {},
   "outputs": [],
   "source": [
    "with open('dom_casmurro_cap_1.txt', 'r', encoding='utf-8') as arquivo:\n",
    "    texto = arquivo.read()\n",
    "    print(texto)"
   ]
  },
  {
   "cell_type": "code",
   "execution_count": 14,
   "id": "fcf36807",
   "metadata": {},
   "outputs": [],
   "source": [
    "with open('arquivo_teste.txt', 'w', encoding='utf-8') as arquivo:\n",
    "    arquivo.write('Essa é uma linha que eu escrevi usando python\\n')\n",
    "    arquivo.write('Essa é a segunda linha que eu escrevi usando python\\n')"
   ]
  },
  {
   "cell_type": "code",
   "execution_count": 15,
   "id": "a5cee3aa",
   "metadata": {},
   "outputs": [
    {
     "name": "stdout",
     "output_type": "stream",
     "text": [
      "Essa é uma linha que eu escrevi usando python\n",
      "Essa é a segunda linha que eu escrevi usando python\n"
     ]
    }
   ],
   "source": [
    "with open('arquivo_teste.txt', 'r', encoding='utf-8') as arquivo:\n",
    "    print(arquivo.read(), end='')"
   ]
  },
  {
   "cell_type": "code",
   "execution_count": 16,
   "id": "2361ad6c",
   "metadata": {},
   "outputs": [],
   "source": [
    "with open('arquivo_teste.txt', 'a', encoding='utf-8') as arquivo:\n",
    "    arquivo.write('Essa é a terceira linha que eu escrevi usando python\\n')"
   ]
  },
  {
   "cell_type": "code",
   "execution_count": 17,
   "id": "21f7c7bf",
   "metadata": {},
   "outputs": [
    {
     "name": "stdout",
     "output_type": "stream",
     "text": [
      "Essa é uma linha que eu escrevi usando python\n",
      "Essa é a segunda linha que eu escrevi usando python\n",
      "Essa é a terceira linha que eu escrevi usando python\n"
     ]
    }
   ],
   "source": [
    "with open('arquivo_teste.txt', 'r', encoding='utf-8') as arquivo:\n",
    "    print(arquivo.read(), end='')"
   ]
  },
  {
   "cell_type": "code",
   "execution_count": null,
   "id": "dd968f23",
   "metadata": {},
   "outputs": [],
   "source": []
  }
 ],
 "metadata": {
  "kernelspec": {
   "display_name": "Python 3.10.7 64-bit",
   "language": "python",
   "name": "python3"
  },
  "language_info": {
   "codemirror_mode": {
    "name": "ipython",
    "version": 3
   },
   "file_extension": ".py",
   "mimetype": "text/x-python",
   "name": "python",
   "nbconvert_exporter": "python",
   "pygments_lexer": "ipython3",
   "version": "3.10.7"
  },
  "vscode": {
   "interpreter": {
    "hash": "6cd258864640d6a41eff78d9e67e9a3340364694eb4cd27b88581c008a19cbb8"
   }
  }
 },
 "nbformat": 4,
 "nbformat_minor": 5
}
