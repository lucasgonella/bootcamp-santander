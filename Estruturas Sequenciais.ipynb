{
 "cells": [
  {
   "cell_type": "code",
   "execution_count": 8,
   "id": "e9ec1f54",
   "metadata": {},
   "outputs": [
    {
     "name": "stdout",
     "output_type": "stream",
     "text": [
      "Informe a sua idade: 26\n",
      "26 <class 'str'>\n"
     ]
    }
   ],
   "source": [
    "idade = input(\"Informe a sua idade: \")\n",
    "print(idade, type(idade))"
   ]
  },
  {
   "cell_type": "code",
   "execution_count": 9,
   "id": "f2ecdd55",
   "metadata": {
    "scrolled": false
   },
   "outputs": [
    {
     "name": "stdout",
     "output_type": "stream",
     "text": [
      "26 <class 'int'>\n"
     ]
    }
   ],
   "source": [
    "idade = int(idade)\n",
    "print(idade, type(idade))"
   ]
  },
  {
   "cell_type": "code",
   "execution_count": 11,
   "id": "9000ba8b",
   "metadata": {},
   "outputs": [
    {
     "name": "stdout",
     "output_type": "stream",
     "text": [
      "123.25 <class 'float'>\n",
      "123.25 <class 'str'>\n",
      "False\n",
      "True\n",
      "False\n",
      "True\n"
     ]
    }
   ],
   "source": [
    "print(float(\"123.25\"),type(float('123.25')))\n",
    "print(float(\"123.25\"),type(str(123.24)))\n",
    "print(bool(''))\n",
    "print(bool('abc'))\n",
    "print(bool(0))\n",
    "print(bool(-2))"
   ]
  },
  {
   "cell_type": "code",
   "execution_count": 14,
   "id": "11f6a327",
   "metadata": {},
   "outputs": [
    {
     "name": "stdout",
     "output_type": "stream",
     "text": [
      "Digite o valor do seu salário mensal: 5000\n",
      "Digite o valor do seu gasto mensal em média: 2000\n",
      "O montante que você pode economizar ao fim do ano é de:  36000.0\n"
     ]
    }
   ],
   "source": [
    "salario_mensal = float(input(\"Digite o valor do seu salário mensal: \"))\n",
    "gasto_mensal = float(input(\"Digite o valor do seu gasto mensal em média: \"))\n",
    "\n",
    "salario_total = salario_mensal * 12\n",
    "gasto_total = gasto_mensal * 12\n",
    "montante_economizado = salario_total - gasto_total\n",
    "print(\"O montante que você pode economizar ao fim do ano é de: \", montante_economizado)"
   ]
  },
  {
   "cell_type": "code",
   "execution_count": null,
   "id": "68f73581",
   "metadata": {},
   "outputs": [],
   "source": []
  }
 ],
 "metadata": {
  "kernelspec": {
   "display_name": "Python 3 (ipykernel)",
   "language": "python",
   "name": "python3"
  },
  "language_info": {
   "codemirror_mode": {
    "name": "ipython",
    "version": 3
   },
   "file_extension": ".py",
   "mimetype": "text/x-python",
   "name": "python",
   "nbconvert_exporter": "python",
   "pygments_lexer": "ipython3",
   "version": "3.10.7"
  }
 },
 "nbformat": 4,
 "nbformat_minor": 5
}
