{
 "cells": [
  {
   "cell_type": "code",
   "execution_count": 5,
   "id": "e9504540",
   "metadata": {},
   "outputs": [
    {
     "name": "stdout",
     "output_type": "stream",
     "text": [
      "1 Item limpo\n",
      "2 Itens limpos\n",
      "3 Itens limpos\n",
      "4 Itens limpos\n",
      "5 Itens limpos\n",
      "6 Itens limpos\n",
      "7 Itens limpos\n",
      "8 Itens limpos\n",
      "9 Itens limpos\n",
      "10 Itens limpos\n",
      "Fim da repetição do bloco while\n"
     ]
    }
   ],
   "source": [
    "contador = 0\n",
    "\n",
    "while contador < 10:\n",
    "    contador = contador + 1\n",
    "    if contador == 1:\n",
    "        print(contador, \"Item limpo\")\n",
    "    else: \n",
    "        print(contador, \"Itens limpos\")\n",
    "\n",
    "print(\"Fim da repetição do bloco while\")"
   ]
  },
  {
   "cell_type": "code",
   "execution_count": 8,
   "id": "5886fb56",
   "metadata": {},
   "outputs": [
    {
     "name": "stdout",
     "output_type": "stream",
     "text": [
      "1 Item limpo\n",
      "2 Itens limpos\n",
      "3 Itens limpos\n",
      "4 Itens limpos\n",
      "5 Itens limpos\n",
      "6 Itens limpos\n",
      "7 Itens limpos\n",
      "8 Itens limpos\n",
      "9 Itens limpos\n",
      "10 Itens limpos\n",
      "Fim da repetição do bloco while\n"
     ]
    }
   ],
   "source": [
    "contador = 0\n",
    "\n",
    "while True:\n",
    "    if contador < 10:\n",
    "        contador = contador + 1\n",
    "        if contador == 1:\n",
    "            print(contador, \"Item limpo\")\n",
    "        else: \n",
    "            print(contador, \"Itens limpos\")\n",
    "    else: \n",
    "        break\n",
    "print(\"Fim da repetição do bloco while\")"
   ]
  },
  {
   "cell_type": "code",
   "execution_count": 10,
   "id": "c856a3df",
   "metadata": {},
   "outputs": [
    {
     "name": "stdout",
     "output_type": "stream",
     "text": [
      "Digite a sua senha: LETS\n",
      "Senha inválida. Tente novamente LETSCODE\n",
      "Senha inválida. Tente novamente LetsCode\n",
      "Acesso permitido\n"
     ]
    }
   ],
   "source": [
    "texto = input('Digite a sua senha: ')\n",
    "\n",
    "while texto != 'LetsCode':\n",
    "    texto = input('Senha inválida. Tente novamente: ')\n",
    "    \n",
    "print('Acesso permitido')"
   ]
  },
  {
   "cell_type": "code",
   "execution_count": 11,
   "id": "2cd72901",
   "metadata": {},
   "outputs": [
    {
     "name": "stdout",
     "output_type": "stream",
     "text": [
      "2 Itens limpos\n",
      "3 Itens limpos\n",
      "4 Itens limpos\n",
      "5 Itens limpos\n",
      "6 Itens limpos\n",
      "7 Itens limpos\n",
      "8 Itens limpos\n",
      "9 Itens limpos\n",
      "10 Itens limpos\n",
      "Fim da repetição do bloco while\n"
     ]
    }
   ],
   "source": [
    "contador = 0\n",
    "\n",
    "while contador < 10:\n",
    "    contador = contador + 1\n",
    "    if contador == 1:\n",
    "        continue\n",
    "    print(contador, \"Itens limpos\")\n",
    "\n",
    "print(\"Fim da repetição do bloco while\")"
   ]
  },
  {
   "cell_type": "code",
   "execution_count": null,
   "id": "92e5869b",
   "metadata": {},
   "outputs": [],
   "source": []
  }
 ],
 "metadata": {
  "kernelspec": {
   "display_name": "Python 3 (ipykernel)",
   "language": "python",
   "name": "python3"
  },
  "language_info": {
   "codemirror_mode": {
    "name": "ipython",
    "version": 3
   },
   "file_extension": ".py",
   "mimetype": "text/x-python",
   "name": "python",
   "nbconvert_exporter": "python",
   "pygments_lexer": "ipython3",
   "version": "3.10.7"
  }
 },
 "nbformat": 4,
 "nbformat_minor": 5
}
