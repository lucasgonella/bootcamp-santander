{
 "cells": [
  {
   "cell_type": "code",
   "execution_count": 1,
   "id": "e4da1cf6",
   "metadata": {},
   "outputs": [],
   "source": [
    "def calcula_media(valor1, valor2, valor3):\n",
    "    soma = valor1 + valor2 + valor3\n",
    "    media = soma / 3\n",
    "    return media"
   ]
  },
  {
   "cell_type": "code",
   "execution_count": 9,
   "id": "918c5583",
   "metadata": {},
   "outputs": [],
   "source": [
    "def calcula_media(*args, margem):\n",
    "    soma = sum(args)\n",
    "    media = soma/len(args)\n",
    "    return media + margem"
   ]
  },
  {
   "cell_type": "code",
   "execution_count": 10,
   "id": "1cf0273e",
   "metadata": {},
   "outputs": [
    {
     "data": {
      "text/plain": [
       "9.3"
      ]
     },
     "execution_count": 10,
     "metadata": {},
     "output_type": "execute_result"
    }
   ],
   "source": [
    "calcula_media(10,8,9, margem=0.3)"
   ]
  },
  {
   "cell_type": "code",
   "execution_count": 11,
   "id": "6ccf89f6",
   "metadata": {},
   "outputs": [],
   "source": [
    "def print_info(**kwargs):\n",
    "    print(kwargs, type(kwargs))"
   ]
  },
  {
   "cell_type": "code",
   "execution_count": 12,
   "id": "2811edbc",
   "metadata": {},
   "outputs": [
    {
     "name": "stdout",
     "output_type": "stream",
     "text": [
      "{'nome': 'Pietro', 'sobrenome': 'Ribeiro'} <class 'dict'>\n"
     ]
    }
   ],
   "source": [
    "print_info(nome='Pietro', sobrenome='Ribeiro')"
   ]
  },
  {
   "cell_type": "code",
   "execution_count": null,
   "id": "7e6078af",
   "metadata": {},
   "outputs": [],
   "source": []
  }
 ],
 "metadata": {
  "kernelspec": {
   "display_name": "Python 3 (ipykernel)",
   "language": "python",
   "name": "python3"
  },
  "language_info": {
   "codemirror_mode": {
    "name": "ipython",
    "version": 3
   },
   "file_extension": ".py",
   "mimetype": "text/x-python",
   "name": "python",
   "nbconvert_exporter": "python",
   "pygments_lexer": "ipython3",
   "version": "3.10.7"
  }
 },
 "nbformat": 4,
 "nbformat_minor": 5
}
