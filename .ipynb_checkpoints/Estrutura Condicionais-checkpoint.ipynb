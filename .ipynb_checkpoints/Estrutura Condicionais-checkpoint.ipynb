{
 "cells": [
  {
   "cell_type": "code",
   "execution_count": 2,
   "id": "4892db07",
   "metadata": {},
   "outputs": [
    {
     "name": "stdout",
     "output_type": "stream",
     "text": [
      "Qual é o valor da corrida? 35.00\n",
      "Pegue o ônibus\n"
     ]
    }
   ],
   "source": [
    "valor_passagem = 4.30\n",
    "valor_corrida = float(input(\"Qual é o valor da corrida? \"))\n",
    "\n",
    "if valor_corrida <= valor_passagem * 5:\n",
    "    print('Pague a corrida')\n",
    "if valor_corrida > valor_passagem * 5:\n",
    "    print('Pegue o ônibus')"
   ]
  },
  {
   "cell_type": "code",
   "execution_count": 6,
   "id": "8b7619a6",
   "metadata": {},
   "outputs": [
    {
     "name": "stdout",
     "output_type": "stream",
     "text": [
      "Qual é o valor da corrida? 17\n",
      "Pague a corrida\n"
     ]
    }
   ],
   "source": [
    "valor_passagem = 4.30\n",
    "valor_corrida = float(input(\"Qual é o valor da corrida? \"))\n",
    "\n",
    "if valor_corrida <= valor_passagem * 5:\n",
    "    print('Pague a corrida')\n",
    "else:\n",
    "    print('Pegue o ônibus')"
   ]
  },
  {
   "cell_type": "code",
   "execution_count": 16,
   "id": "44bd0085",
   "metadata": {},
   "outputs": [
    {
     "name": "stdout",
     "output_type": "stream",
     "text": [
      "Qual é o valor da corrida? 21.6\n",
      "Aguarde alguns minutos e verifique novamente o preço do Uber\n"
     ]
    }
   ],
   "source": [
    "valor_passagem = 4.30\n",
    "valor_corrida = float(input(\"Qual é o valor da corrida? \"))\n",
    "\n",
    "if valor_corrida <= valor_passagem * 5:\n",
    "    print('Pague a corrida')\n",
    "elif valor_corrida <= valor_passagem * 6:\n",
    "    print('Aguarde alguns minutos e verifique novamente o preço do Uber')\n",
    "else: \n",
    "    print(\"Pegue o ônibus\")"
   ]
  },
  {
   "cell_type": "code",
   "execution_count": null,
   "id": "e2bce3fe",
   "metadata": {},
   "outputs": [],
   "source": []
  }
 ],
 "metadata": {
  "kernelspec": {
   "display_name": "Python 3 (ipykernel)",
   "language": "python",
   "name": "python3"
  },
  "language_info": {
   "codemirror_mode": {
    "name": "ipython",
    "version": 3
   },
   "file_extension": ".py",
   "mimetype": "text/x-python",
   "name": "python",
   "nbconvert_exporter": "python",
   "pygments_lexer": "ipython3",
   "version": "3.10.7"
  }
 },
 "nbformat": 4,
 "nbformat_minor": 5
}
